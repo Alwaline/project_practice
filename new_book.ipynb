{
 "cells": [
  {
   "cell_type": "code",
   "execution_count": 3,
   "metadata": {},
   "outputs": [
    {
     "name": "stdout",
     "output_type": "stream",
     "text": [
      "4\n",
      "True\n"
     ]
    }
   ],
   "source": [
    "line = input()\n",
    "print(len(line))\n",
    "print(line.isdigit() or line.isalpha())"
   ]
  },
  {
   "cell_type": "code",
   "execution_count": 4,
   "metadata": {},
   "outputs": [
    {
     "name": "stdout",
     "output_type": "stream",
     "text": [
      "True\n"
     ]
    }
   ],
   "source": [
    "word = input()\n",
    "print(word == word[::-1])"
   ]
  },
  {
   "cell_type": "code",
   "execution_count": 5,
   "metadata": {},
   "outputs": [
    {
     "name": "stdout",
     "output_type": "stream",
     "text": [
      "один236один573928один670472304720один2\n"
     ]
    }
   ],
   "source": [
    "line = '12361573928167047230472012'\n",
    "print(line.replace('1', 'один'))"
   ]
  },
  {
   "cell_type": "code",
   "execution_count": 8,
   "metadata": {},
   "outputs": [
    {
     "name": "stdout",
     "output_type": "stream",
     "text": [
      "Ганиев  А. Р., Программист\n"
     ]
    }
   ],
   "source": [
    "line = input('Введите полные фамилию имя отчество и должность сотрудника (через пробел)').split(' ')\n",
    "print(f'{line[0]}  {line[1][0]}. {line[2][0]}., {line[3]}')"
   ]
  },
  {
   "cell_type": "code",
   "execution_count": 10,
   "metadata": {},
   "outputs": [
    {
     "name": "stdout",
     "output_type": "stream",
     "text": [
      "\"d\" согласная, но на что? 🗿\n"
     ]
    }
   ],
   "source": [
    "LETTERS = 'уеыаоэяию'\n",
    "put = input()\n",
    "# print(put.lower() in LETTERS)\n",
    "if put.lower() in LETTERS:\n",
    "    print(f'\"{put}\" гласная')\n",
    "else:\n",
    "    print(f'\"{put}\" согласная, но на что? 🗿')"
   ]
  },
  {
   "cell_type": "code",
   "execution_count": 11,
   "metadata": {},
   "outputs": [
    {
     "name": "stdout",
     "output_type": "stream",
     "text": [
      "Индекс вхождения подстроки с начала:  1\n",
      "Индекс вхождения подстроки с конца:  3\n"
     ]
    }
   ],
   "source": [
    "text = input('Текст: ')\n",
    "phrase = input('Подстрока: ')\n",
    "\n",
    "print(text)\n",
    "print(phrase)\n",
    "\n",
    "print('Индекс вхождения подстроки с начала: ', text.find(phrase))\n",
    "print('Индекс вхождения подстроки с конца: ', text.rfind(phrase))"
   ]
  },
  {
   "cell_type": "code",
   "execution_count": 13,
   "metadata": {},
   "outputs": [
    {
     "name": "stdout",
     "output_type": "stream",
     "text": [
      "шала\n",
      "ш\n",
      "а\n",
      "True\n"
     ]
    }
   ],
   "source": [
    "text = input('Текст: ')\n",
    "start = input('Старт: ')\n",
    "end = input('Окончание: ')\n",
    "\n",
    "print(text)\n",
    "print(start)\n",
    "print(end)\n",
    "\n",
    "print(text.find(start) == 0 and text.rfind(end) == (len(text) - 1))\n"
   ]
  }
 ],
 "metadata": {
  "kernelspec": {
   "display_name": "Python 3",
   "language": "python",
   "name": "python3"
  },
  "language_info": {
   "codemirror_mode": {
    "name": "ipython",
    "version": 3
   },
   "file_extension": ".py",
   "mimetype": "text/x-python",
   "name": "python",
   "nbconvert_exporter": "python",
   "pygments_lexer": "ipython3",
   "version": "3.10.9"
  },
  "orig_nbformat": 4
 },
 "nbformat": 4,
 "nbformat_minor": 2
}
